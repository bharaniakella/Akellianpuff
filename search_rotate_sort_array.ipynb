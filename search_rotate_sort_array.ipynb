{
  "nbformat": 4,
  "nbformat_minor": 0,
  "metadata": {
    "colab": {
      "provenance": [],
      "authorship_tag": "ABX9TyN83ODJCXResPtsUge84KgC",
      "include_colab_link": true
    },
    "kernelspec": {
      "name": "python3",
      "display_name": "Python 3"
    },
    "language_info": {
      "name": "python"
    }
  },
  "cells": [
    {
      "cell_type": "markdown",
      "metadata": {
        "id": "view-in-github",
        "colab_type": "text"
      },
      "source": [
        "<a href=\"https://colab.research.google.com/github/bharaniakella/Akellianpuff/blob/main/search_rotate_sort_array.ipynb\" target=\"_parent\"><img src=\"https://colab.research.google.com/assets/colab-badge.svg\" alt=\"Open In Colab\"/></a>"
      ]
    },
    {
      "cell_type": "code",
      "execution_count": 6,
      "metadata": {
        "id": "ySkqPETdnj_S"
      },
      "outputs": [],
      "source": [
        "import numpy as np\n",
        "arr=np.array([4,5,6,7,0,1,2])\n"
      ]
    },
    {
      "cell_type": "code",
      "source": [
        "def rot_sort(arr,target):\n",
        "  low=0\n",
        "  high=len(arr)-1\n",
        "  while(low<=high):\n",
        "    mid=low+(high-low)//2\n",
        "    if(arr[mid]==target):\n",
        "      return mid\n",
        "    if(arr[low]<=arr[mid]):\n",
        "      if(arr[low]<=target and target<=arr[mid]):\n",
        "        high=mid-1\n",
        "      else:\n",
        "        low=mid+1\n",
        "    else:\n",
        "      if(arr[mid]<=arr[high]):\n",
        "        if(arr[mid]<=target and target<=arr[high]):\n",
        "          low=mid+1\n",
        "        else:\n",
        "          high=mid-1\n",
        "  return -1"
      ],
      "metadata": {
        "id": "B4oWaIcJn75A"
      },
      "execution_count": 9,
      "outputs": []
    },
    {
      "cell_type": "code",
      "source": [
        "rot_sort(arr,5)"
      ],
      "metadata": {
        "colab": {
          "base_uri": "https://localhost:8080/"
        },
        "id": "KcOl6uwVo2bC",
        "outputId": "7c0e81c3-eeac-40cc-91ac-01b48c6f667d"
      },
      "execution_count": 14,
      "outputs": [
        {
          "output_type": "execute_result",
          "data": {
            "text/plain": [
              "1"
            ]
          },
          "metadata": {},
          "execution_count": 14
        }
      ]
    },
    {
      "cell_type": "code",
      "source": [],
      "metadata": {
        "id": "9MIhacAKo8XI"
      },
      "execution_count": null,
      "outputs": []
    }
  ]
}