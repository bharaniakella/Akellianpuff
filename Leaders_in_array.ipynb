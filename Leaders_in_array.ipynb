{
  "nbformat": 4,
  "nbformat_minor": 0,
  "metadata": {
    "colab": {
      "provenance": [],
      "authorship_tag": "ABX9TyMUh2x+yhHbNDbIexU5yb/f",
      "include_colab_link": true
    },
    "kernelspec": {
      "name": "python3",
      "display_name": "Python 3"
    },
    "language_info": {
      "name": "python"
    }
  },
  "cells": [
    {
      "cell_type": "markdown",
      "metadata": {
        "id": "view-in-github",
        "colab_type": "text"
      },
      "source": [
        "<a href=\"https://colab.research.google.com/github/bharaniakella/Akellianpuff/blob/main/Leaders_in_array.ipynb\" target=\"_parent\"><img src=\"https://colab.research.google.com/assets/colab-badge.svg\" alt=\"Open In Colab\"/></a>"
      ]
    },
    {
      "cell_type": "code",
      "execution_count": 34,
      "metadata": {
        "id": "_nvSgCqioy2d"
      },
      "outputs": [],
      "source": [
        "import numpy as np\n",
        "arr=np.array([10, 22, 12, 3, 0, 6])"
      ]
    },
    {
      "cell_type": "code",
      "source": [
        "def leaders(arr):\n",
        "  max=arr[len(arr)-1]\n",
        "  leaders=[max]\n",
        "  for i in range(len(arr)-1,-1,-1):\n",
        "    if(arr[i]>max):\n",
        "      max=arr[i]\n",
        "      leaders.append(max)\n",
        "  leaders.reverse()\n",
        "  return leaders"
      ],
      "metadata": {
        "id": "OtSBNok6o8HJ"
      },
      "execution_count": 35,
      "outputs": []
    },
    {
      "cell_type": "code",
      "source": [
        "leaders(arr)"
      ],
      "metadata": {
        "colab": {
          "base_uri": "https://localhost:8080/"
        },
        "id": "Is7KUtyjpoVB",
        "outputId": "3aee155f-e95a-4bde-e371-57746bd064c6"
      },
      "execution_count": 36,
      "outputs": [
        {
          "output_type": "execute_result",
          "data": {
            "text/plain": [
              "[22, 12, 6]"
            ]
          },
          "metadata": {},
          "execution_count": 36
        }
      ]
    },
    {
      "cell_type": "code",
      "source": [],
      "metadata": {
        "id": "CU02x8Wipp1X"
      },
      "execution_count": null,
      "outputs": []
    }
  ]
}