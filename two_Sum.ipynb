{
  "nbformat": 4,
  "nbformat_minor": 0,
  "metadata": {
    "colab": {
      "provenance": [],
      "authorship_tag": "ABX9TyMIT5/XY3p3sd9A7jBN2Suh",
      "include_colab_link": true
    },
    "kernelspec": {
      "name": "python3",
      "display_name": "Python 3"
    },
    "language_info": {
      "name": "python"
    }
  },
  "cells": [
    {
      "cell_type": "markdown",
      "metadata": {
        "id": "view-in-github",
        "colab_type": "text"
      },
      "source": [
        "<a href=\"https://colab.research.google.com/github/bharaniakella/Akellianpuff/blob/main/two_Sum.ipynb\" target=\"_parent\"><img src=\"https://colab.research.google.com/assets/colab-badge.svg\" alt=\"Open In Colab\"/></a>"
      ]
    },
    {
      "cell_type": "code",
      "execution_count": 1,
      "metadata": {
        "id": "7ufxPacAqUnG"
      },
      "outputs": [],
      "source": [
        "import numpy as np\n",
        "\n",
        "arr=np.array([2,7,11,15])"
      ]
    },
    {
      "cell_type": "code",
      "source": [
        "def two_sum(arr,target):\n",
        "  seen={}\n",
        "  for i,num in enumerate(arr):\n",
        "    complement=target-num\n",
        "    if(complement in seen):\n",
        "      return [seen[complement],i]\n",
        "    else:\n",
        "      seen[num]=i\n",
        "  return -1"
      ],
      "metadata": {
        "id": "txeEaWJFqeNI"
      },
      "execution_count": 2,
      "outputs": []
    },
    {
      "cell_type": "code",
      "source": [
        "two_sum(arr,13)"
      ],
      "metadata": {
        "colab": {
          "base_uri": "https://localhost:8080/"
        },
        "id": "YdqOn0qdrHWk",
        "outputId": "f143aba6-ab99-4043-97f6-70de4a5dc047"
      },
      "execution_count": 5,
      "outputs": [
        {
          "output_type": "execute_result",
          "data": {
            "text/plain": [
              "[0, 2]"
            ]
          },
          "metadata": {},
          "execution_count": 5
        }
      ]
    },
    {
      "cell_type": "code",
      "source": [],
      "metadata": {
        "id": "OWyBArngrI7p"
      },
      "execution_count": null,
      "outputs": []
    }
  ]
}