{
  "nbformat": 4,
  "nbformat_minor": 0,
  "metadata": {
    "colab": {
      "provenance": [],
      "authorship_tag": "ABX9TyNB/+zNirmJhJYl6VaqvmqE",
      "include_colab_link": true
    },
    "kernelspec": {
      "name": "python3",
      "display_name": "Python 3"
    },
    "language_info": {
      "name": "python"
    }
  },
  "cells": [
    {
      "cell_type": "markdown",
      "metadata": {
        "id": "view-in-github",
        "colab_type": "text"
      },
      "source": [
        "<a href=\"https://colab.research.google.com/github/bharaniakella/Akellianpuff/blob/main/max_consecutive_ones.ipynb\" target=\"_parent\"><img src=\"https://colab.research.google.com/assets/colab-badge.svg\" alt=\"Open In Colab\"/></a>"
      ]
    },
    {
      "cell_type": "code",
      "execution_count": 1,
      "metadata": {
        "id": "DoJQtPnz46_F"
      },
      "outputs": [],
      "source": [
        "import numpy as np\n",
        "arr=np.array([1, 1, 0, 1, 1, 1])"
      ]
    },
    {
      "cell_type": "code",
      "source": [
        "def consec_ones(arr):\n",
        "  sum=0\n",
        "  total_count=0\n",
        "  for i in range(len(arr)):\n",
        "    if(arr[i]==1):\n",
        "      sum=sum+1\n",
        "      total_count=max(total_count,sum)\n",
        "    else:\n",
        "      sum=0\n",
        "  return total_count\n"
      ],
      "metadata": {
        "id": "HCZqqmqD5CP7"
      },
      "execution_count": 2,
      "outputs": []
    },
    {
      "cell_type": "code",
      "source": [
        "consec_ones(arr)"
      ],
      "metadata": {
        "id": "CDHajMne6VrU",
        "outputId": "b930a544-bef6-422f-eb2e-3fe7a3031f47",
        "colab": {
          "base_uri": "https://localhost:8080/"
        }
      },
      "execution_count": 3,
      "outputs": [
        {
          "output_type": "execute_result",
          "data": {
            "text/plain": [
              "3"
            ]
          },
          "metadata": {},
          "execution_count": 3
        }
      ]
    },
    {
      "cell_type": "code",
      "source": [],
      "metadata": {
        "id": "zhJJoLHv6Xlk"
      },
      "execution_count": null,
      "outputs": []
    }
  ]
}