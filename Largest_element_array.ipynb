{
  "nbformat": 4,
  "nbformat_minor": 0,
  "metadata": {
    "colab": {
      "provenance": []
    },
    "kernelspec": {
      "name": "python3",
      "display_name": "Python 3"
    },
    "language_info": {
      "name": "python"
    }
  },
  "cells": [
    {
      "cell_type": "code",
      "execution_count": 13,
      "metadata": {
        "id": "J4wW1EItj-G0"
      },
      "outputs": [],
      "source": [
        "import numpy as np"
      ]
    },
    {
      "cell_type": "code",
      "source": [
        "arr=np.array([3,5,1,8,4,6,9])\n",
        "\n",
        "def find_max(arr):\n",
        "  max=arr[0]\n",
        "  for i in range(1,len(arr)):\n",
        "    if(arr[i]>max):\n",
        "      max=arr[i]\n",
        "  return max"
      ],
      "metadata": {
        "id": "3ELAt8O4lRG7"
      },
      "execution_count": 14,
      "outputs": []
    },
    {
      "cell_type": "code",
      "source": [
        "find_max(arr)"
      ],
      "metadata": {
        "colab": {
          "base_uri": "https://localhost:8080/"
        },
        "id": "tYbHlKocl7RN",
        "outputId": "aa94e259-b0d6-49df-8b14-fe74b16a733b"
      },
      "execution_count": 15,
      "outputs": [
        {
          "output_type": "execute_result",
          "data": {
            "text/plain": [
              "9"
            ]
          },
          "metadata": {},
          "execution_count": 15
        }
      ]
    },
    {
      "cell_type": "code",
      "source": [],
      "metadata": {
        "id": "mX2TKeTvl9vt"
      },
      "execution_count": null,
      "outputs": []
    }
  ]
}