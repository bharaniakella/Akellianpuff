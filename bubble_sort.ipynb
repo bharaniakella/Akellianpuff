{
  "nbformat": 4,
  "nbformat_minor": 0,
  "metadata": {
    "colab": {
      "provenance": [],
      "authorship_tag": "ABX9TyM0YncqKE6GaI2dSKp8UBu3",
      "include_colab_link": true
    },
    "kernelspec": {
      "name": "python3",
      "display_name": "Python 3"
    },
    "language_info": {
      "name": "python"
    }
  },
  "cells": [
    {
      "cell_type": "markdown",
      "metadata": {
        "id": "view-in-github",
        "colab_type": "text"
      },
      "source": [
        "<a href=\"https://colab.research.google.com/github/bharaniakella/Akellianpuff/blob/main/bubble_sort.ipynb\" target=\"_parent\"><img src=\"https://colab.research.google.com/assets/colab-badge.svg\" alt=\"Open In Colab\"/></a>"
      ]
    },
    {
      "cell_type": "code",
      "execution_count": 40,
      "metadata": {
        "id": "wvg40RwnGPXN"
      },
      "outputs": [],
      "source": [
        "import numpy as np\n",
        "arr=np.array([13,46,24,52,20,9])"
      ]
    },
    {
      "cell_type": "code",
      "source": [
        "def bubble_sort(arr):\n",
        "  for i in range(len(arr)-1,0,-1):\n",
        "    for j in range(0,i):\n",
        "      if(arr[j]>arr[j+1]):\n",
        "        temp=arr[j+1]\n",
        "        arr[j+1]=arr[j]\n",
        "        arr[j]=temp\n",
        "  return arr\n"
      ],
      "metadata": {
        "id": "FUVMQiVgGgl5"
      },
      "execution_count": 41,
      "outputs": []
    },
    {
      "cell_type": "code",
      "source": [
        "bubble_sort(arr)"
      ],
      "metadata": {
        "colab": {
          "base_uri": "https://localhost:8080/"
        },
        "id": "ij2vQ6ESHBXW",
        "outputId": "610e5539-cf7c-452c-d5cd-9bfe8fafda7e"
      },
      "execution_count": 42,
      "outputs": [
        {
          "output_type": "execute_result",
          "data": {
            "text/plain": [
              "array([ 9, 13, 20, 24, 46, 52])"
            ]
          },
          "metadata": {},
          "execution_count": 42
        }
      ]
    },
    {
      "cell_type": "code",
      "source": [],
      "metadata": {
        "id": "NNoKBoZzHEF0"
      },
      "execution_count": 39,
      "outputs": []
    }
  ]
}