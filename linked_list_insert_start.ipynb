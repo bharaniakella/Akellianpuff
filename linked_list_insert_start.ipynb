{
  "nbformat": 4,
  "nbformat_minor": 0,
  "metadata": {
    "colab": {
      "provenance": [],
      "authorship_tag": "ABX9TyN34d00z0PWnZkETeO8xind",
      "include_colab_link": true
    },
    "kernelspec": {
      "name": "python3",
      "display_name": "Python 3"
    },
    "language_info": {
      "name": "python"
    }
  },
  "cells": [
    {
      "cell_type": "markdown",
      "metadata": {
        "id": "view-in-github",
        "colab_type": "text"
      },
      "source": [
        "<a href=\"https://colab.research.google.com/github/bharaniakella/Akellianpuff/blob/main/linked_list_insert_start.ipynb\" target=\"_parent\"><img src=\"https://colab.research.google.com/assets/colab-badge.svg\" alt=\"Open In Colab\"/></a>"
      ]
    },
    {
      "cell_type": "code",
      "execution_count": 10,
      "metadata": {
        "id": "UOoCcCDsAZ8C"
      },
      "outputs": [],
      "source": [
        "class Node:\n",
        "  def __init__(self,value):\n",
        "    self.value=value\n",
        "    self.next=None\n",
        "\n",
        "class LinkedList:\n",
        "  def __init__(self):\n",
        "    self.head=None\n",
        "    self.tail=None\n",
        "    self.length=0\n",
        "\n",
        "  def print_list(self):\n",
        "    node=self.head\n",
        "    while node:\n",
        "      print(node.value)\n",
        "      node=node.next\n",
        "\n",
        "  def append(self,value):\n",
        "    new_node=Node(value)\n",
        "    if(self.head==None):\n",
        "      self.head=new_node\n",
        "      self.tail=new_node\n",
        "    else:\n",
        "      self.tail.next=new_node\n",
        "      self.tail=new_node\n",
        "    self.length+=1\n",
        "\n",
        "  def prepend(self,value):\n",
        "    new_node=Node(value)\n",
        "    if(self.head==None):\n",
        "      self.head=new_node\n",
        "      self.tail=new_node\n",
        "    else:\n",
        "      new_node.next=self.head\n",
        "      self.head=new_node\n",
        "    self.length+=1"
      ]
    },
    {
      "cell_type": "code",
      "source": [
        "ll=LinkedList()"
      ],
      "metadata": {
        "id": "7BwdwOQIBaQY"
      },
      "execution_count": 11,
      "outputs": []
    },
    {
      "cell_type": "code",
      "source": [
        "ll.append(50)\n",
        "ll.append(60)\n",
        "ll.append(70)\n",
        "ll.print_list()"
      ],
      "metadata": {
        "colab": {
          "base_uri": "https://localhost:8080/"
        },
        "id": "T1rOo9e-BqZ7",
        "outputId": "bc2ee350-9508-4bbb-a931-2bf4e30b8e1f"
      },
      "execution_count": 12,
      "outputs": [
        {
          "output_type": "stream",
          "name": "stdout",
          "text": [
            "50\n",
            "60\n",
            "70\n"
          ]
        }
      ]
    },
    {
      "cell_type": "code",
      "source": [
        "ll.prepend(100)\n",
        "ll.prepend(200)\n",
        "ll.prepend(300)\n",
        "ll.print_list()"
      ],
      "metadata": {
        "colab": {
          "base_uri": "https://localhost:8080/"
        },
        "id": "xTeR6G4zB3pv",
        "outputId": "09f7ce8c-79de-4ed8-e8e5-a4b5fb01c765"
      },
      "execution_count": 13,
      "outputs": [
        {
          "output_type": "stream",
          "name": "stdout",
          "text": [
            "300\n",
            "200\n",
            "100\n",
            "50\n",
            "60\n",
            "70\n"
          ]
        }
      ]
    },
    {
      "cell_type": "code",
      "source": [],
      "metadata": {
        "id": "lqqqTI6jE2Ef"
      },
      "execution_count": null,
      "outputs": []
    }
  ]
}