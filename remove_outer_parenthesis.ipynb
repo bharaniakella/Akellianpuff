{
  "nbformat": 4,
  "nbformat_minor": 0,
  "metadata": {
    "colab": {
      "provenance": [],
      "authorship_tag": "ABX9TyNqNVSUm5szqKHX4SMNT3Ez",
      "include_colab_link": true
    },
    "kernelspec": {
      "name": "python3",
      "display_name": "Python 3"
    },
    "language_info": {
      "name": "python"
    }
  },
  "cells": [
    {
      "cell_type": "markdown",
      "metadata": {
        "id": "view-in-github",
        "colab_type": "text"
      },
      "source": [
        "<a href=\"https://colab.research.google.com/github/bharaniakella/Akellianpuff/blob/main/remove_outer_parenthesis.ipynb\" target=\"_parent\"><img src=\"https://colab.research.google.com/assets/colab-badge.svg\" alt=\"Open In Colab\"/></a>"
      ]
    },
    {
      "cell_type": "code",
      "execution_count": 1,
      "metadata": {
        "id": "CTFhlD6SS0bo"
      },
      "outputs": [],
      "source": [
        "import numpy as np\n",
        "s = \"(()())(())\"\n"
      ]
    },
    {
      "cell_type": "code",
      "source": [
        "def rem_out_parent(s):\n",
        "  res=\"\"\n",
        "  count=0\n",
        "  for char in s:\n",
        "    if(char=='('):\n",
        "      count=count+1\n",
        "      if(count>1):\n",
        "        res=res+char\n",
        "    else:\n",
        "      count=count-1\n",
        "      if(count>0):\n",
        "        res=res+char\n",
        "  return res"
      ],
      "metadata": {
        "id": "taq-oHTGTAc2"
      },
      "execution_count": 3,
      "outputs": []
    },
    {
      "cell_type": "code",
      "source": [
        "rem_out_parent(s)"
      ],
      "metadata": {
        "colab": {
          "base_uri": "https://localhost:8080/",
          "height": 35
        },
        "id": "jypV4kP0TWel",
        "outputId": "2c3a56eb-2591-41b0-9f11-76e432180ec6"
      },
      "execution_count": 4,
      "outputs": [
        {
          "output_type": "execute_result",
          "data": {
            "text/plain": [
              "'()()()'"
            ],
            "application/vnd.google.colaboratory.intrinsic+json": {
              "type": "string"
            }
          },
          "metadata": {},
          "execution_count": 4
        }
      ]
    },
    {
      "cell_type": "code",
      "source": [],
      "metadata": {
        "id": "gsorYw9mTcM7"
      },
      "execution_count": null,
      "outputs": []
    }
  ]
}