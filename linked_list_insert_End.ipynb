{
  "nbformat": 4,
  "nbformat_minor": 0,
  "metadata": {
    "colab": {
      "provenance": [],
      "authorship_tag": "ABX9TyODQdcvY4kX1vSWu68L2ka8",
      "include_colab_link": true
    },
    "kernelspec": {
      "name": "python3",
      "display_name": "Python 3"
    },
    "language_info": {
      "name": "python"
    }
  },
  "cells": [
    {
      "cell_type": "markdown",
      "metadata": {
        "id": "view-in-github",
        "colab_type": "text"
      },
      "source": [
        "<a href=\"https://colab.research.google.com/github/bharaniakella/Akellianpuff/blob/main/linked_list_insert_End.ipynb\" target=\"_parent\"><img src=\"https://colab.research.google.com/assets/colab-badge.svg\" alt=\"Open In Colab\"/></a>"
      ]
    },
    {
      "cell_type": "code",
      "source": [
        "class Node:\n",
        "  def __init__(self,value):\n",
        "    self.value=value\n",
        "    self.next=None\n",
        "\n",
        "class LinkedList:\n",
        "  def __init__(self):\n",
        "    self.head=None\n",
        "    self.tail=None\n",
        "    self.length=0\n",
        "\n",
        "  def append(self,value):\n",
        "    new_node=Node(value)\n",
        "    if self.head is None:\n",
        "      self.head=new_node\n",
        "      self.tail=new_node\n",
        "    else:\n",
        "      self.tail.next=new_node\n",
        "      self.tail=new_node\n",
        "    self.length=self.length+1\n",
        "\n",
        "  def print_list(self):\n",
        "    node=self.head\n",
        "    while node:\n",
        "      print(node.value)\n",
        "      node=node.next"
      ],
      "metadata": {
        "id": "ZxEW8AeQ3fVe"
      },
      "execution_count": 20,
      "outputs": []
    },
    {
      "cell_type": "code",
      "source": [
        "n1=Node(10)\n",
        "n2=Node(20)\n",
        "n3=Node(30)\n",
        "\n",
        "n1.next=n2\n",
        "n2.next=n3\n",
        "\n",
        "ll=LinkedList()\n",
        "ll.head=n1\n",
        "\n",
        "ll.print_list()"
      ],
      "metadata": {
        "colab": {
          "base_uri": "https://localhost:8080/"
        },
        "id": "3MeqiGeU9FE5",
        "outputId": "db942e46-aebe-4660-d05e-92314c643d8a"
      },
      "execution_count": 21,
      "outputs": [
        {
          "output_type": "stream",
          "name": "stdout",
          "text": [
            "10\n",
            "20\n",
            "30\n"
          ]
        }
      ]
    },
    {
      "cell_type": "code",
      "source": [],
      "metadata": {
        "id": "CtzcVWfS9QLi"
      },
      "execution_count": null,
      "outputs": []
    }
  ]
}