{
  "nbformat": 4,
  "nbformat_minor": 0,
  "metadata": {
    "colab": {
      "provenance": [],
      "authorship_tag": "ABX9TyP0Eu81JkC/Rb4L3DJgTS0R",
      "include_colab_link": true
    },
    "kernelspec": {
      "name": "python3",
      "display_name": "Python 3"
    },
    "language_info": {
      "name": "python"
    }
  },
  "cells": [
    {
      "cell_type": "markdown",
      "metadata": {
        "id": "view-in-github",
        "colab_type": "text"
      },
      "source": [
        "<a href=\"https://colab.research.google.com/github/bharaniakella/Akellianpuff/blob/main/stack_using_list_without_size_limit.ipynb\" target=\"_parent\"><img src=\"https://colab.research.google.com/assets/colab-badge.svg\" alt=\"Open In Colab\"/></a>"
      ]
    },
    {
      "cell_type": "code",
      "execution_count": 2,
      "metadata": {
        "id": "pCaMIVpJniJV"
      },
      "outputs": [],
      "source": [
        "class Stack:\n",
        "  def __init__(self):\n",
        "    self.list=[]\n",
        "\n",
        "  def __str__(self):\n",
        "    values=self.list.reverse()\n",
        "    values=[str(x) for x in self.list]\n",
        "    return '\\n'.join(values)"
      ]
    },
    {
      "cell_type": "code",
      "source": [],
      "metadata": {
        "id": "2M-Q9vKToEN7"
      },
      "execution_count": null,
      "outputs": []
    }
  ]
}