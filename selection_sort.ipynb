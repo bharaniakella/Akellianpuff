{
  "nbformat": 4,
  "nbformat_minor": 0,
  "metadata": {
    "colab": {
      "provenance": [],
      "authorship_tag": "ABX9TyNQhEnVVt8c2AYss+hui+Cx",
      "include_colab_link": true
    },
    "kernelspec": {
      "name": "python3",
      "display_name": "Python 3"
    },
    "language_info": {
      "name": "python"
    }
  },
  "cells": [
    {
      "cell_type": "markdown",
      "metadata": {
        "id": "view-in-github",
        "colab_type": "text"
      },
      "source": [
        "<a href=\"https://colab.research.google.com/github/bharaniakella/Akellianpuff/blob/main/selection_sort.ipynb\" target=\"_parent\"><img src=\"https://colab.research.google.com/assets/colab-badge.svg\" alt=\"Open In Colab\"/></a>"
      ]
    },
    {
      "cell_type": "code",
      "execution_count": 13,
      "metadata": {
        "id": "l4K6kBbSFSoM"
      },
      "outputs": [],
      "source": [
        "import numpy as np\n",
        "arr=np.array([13,46,24,52,20,9])"
      ]
    },
    {
      "cell_type": "code",
      "source": [
        "def selection_sort(arr):\n",
        "  for i in range(len(arr)-1):\n",
        "    mini=i\n",
        "    for j in range(i,len(arr)):\n",
        "      if(arr[j]<arr[mini]):\n",
        "        mini=j\n",
        "    temp=arr[mini]\n",
        "    arr[mini]=arr[i]\n",
        "    arr[i]=temp\n",
        "  return arr"
      ],
      "metadata": {
        "id": "_8yDsfUoFgM3"
      },
      "execution_count": 14,
      "outputs": []
    },
    {
      "cell_type": "code",
      "source": [
        "selection_sort(arr)"
      ],
      "metadata": {
        "colab": {
          "base_uri": "https://localhost:8080/"
        },
        "id": "4m0IB_NmGDST",
        "outputId": "2861fdef-28b1-424c-8b5a-f38686ad3386"
      },
      "execution_count": 15,
      "outputs": [
        {
          "output_type": "execute_result",
          "data": {
            "text/plain": [
              "array([ 9, 13, 20, 24, 46, 52])"
            ]
          },
          "metadata": {},
          "execution_count": 15
        }
      ]
    },
    {
      "cell_type": "code",
      "source": [],
      "metadata": {
        "id": "KT_POPUKGEUx"
      },
      "execution_count": null,
      "outputs": []
    }
  ]
}