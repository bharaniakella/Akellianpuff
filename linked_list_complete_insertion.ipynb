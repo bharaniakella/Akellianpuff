{
  "nbformat": 4,
  "nbformat_minor": 0,
  "metadata": {
    "colab": {
      "provenance": [],
      "authorship_tag": "ABX9TyOuBoo2ImpiZHzjzJnGfDKP",
      "include_colab_link": true
    },
    "kernelspec": {
      "name": "python3",
      "display_name": "Python 3"
    },
    "language_info": {
      "name": "python"
    }
  },
  "cells": [
    {
      "cell_type": "markdown",
      "metadata": {
        "id": "view-in-github",
        "colab_type": "text"
      },
      "source": [
        "<a href=\"https://colab.research.google.com/github/bharaniakella/Akellianpuff/blob/main/linked_list_complete_insertion.ipynb\" target=\"_parent\"><img src=\"https://colab.research.google.com/assets/colab-badge.svg\" alt=\"Open In Colab\"/></a>"
      ]
    },
    {
      "cell_type": "code",
      "execution_count": 6,
      "metadata": {
        "id": "WYxmcG2QKxSU"
      },
      "outputs": [],
      "source": [
        "class Node:\n",
        "  def __init__(self,value):\n",
        "    self.value=value\n",
        "    self.next=None"
      ]
    },
    {
      "cell_type": "code",
      "source": [
        "class LinkedList:\n",
        "  def __init__(self):\n",
        "    self.head=None\n",
        "    self.tail=None\n",
        "    self.length=0\n",
        "\n",
        "  def print_list(self):\n",
        "    node=self.head\n",
        "    while node:\n",
        "      print(node.value)\n",
        "      node=node.next\n",
        "\n",
        "  def append(self,value):\n",
        "    new_node=Node(value)\n",
        "    if(self.head==None):\n",
        "      self.head=new_node\n",
        "      self.tail=new_node\n",
        "    else:\n",
        "      self.tail.next=new_node\n",
        "      self.tail=new_node\n",
        "    self.length=self.length+1\n",
        "\n",
        "  def prepend(self,value):\n",
        "    new_node=Node(value)\n",
        "    if(self.head==None):\n",
        "      self.head=new_node\n",
        "      self.tail=new_node\n",
        "    else:\n",
        "      new_node.next=self.head\n",
        "      self.head=new_node\n",
        "    self.length=self.length+1\n",
        "\n",
        "  def insert(self,index,value):\n",
        "    new_node=Node(value)\n",
        "    if(index<0 or index>self.length):\n",
        "      return False\n",
        "    if(self.length==0):\n",
        "      self.head=new_node\n",
        "      self.tail=new_node\n",
        "    elif(index==0):\n",
        "      new_node.next=self.head\n",
        "      self.head=new_node\n",
        "    else:\n",
        "      temp_node=self.head\n",
        "      for _ in range(index-1):\n",
        "        temp_node=temp_node.next\n",
        "      new_node.next=temp_node.next\n",
        "      temp_node.next=new_node\n",
        "    self.length=self.length+1\n",
        "    return True"
      ],
      "metadata": {
        "id": "7GcLfxMmK9cQ"
      },
      "execution_count": 12,
      "outputs": []
    },
    {
      "cell_type": "code",
      "source": [
        "ll=LinkedList()\n",
        "\n",
        "ll.append(10)\n",
        "ll.append(20)\n",
        "ll.prepend(100)\n",
        "ll.prepend(200)\n",
        "\n",
        "ll.insert(1,500)\n",
        "ll.insert(0,1000)\n",
        "ll.insert(6,111)\n",
        "ll.print_list()"
      ],
      "metadata": {
        "colab": {
          "base_uri": "https://localhost:8080/"
        },
        "id": "0UmsmM2ZNeiD",
        "outputId": "2eb69bb6-11e2-4cf5-f568-18d640a8c65a"
      },
      "execution_count": 17,
      "outputs": [
        {
          "output_type": "stream",
          "name": "stdout",
          "text": [
            "1000\n",
            "200\n",
            "500\n",
            "100\n",
            "10\n",
            "20\n",
            "111\n"
          ]
        }
      ]
    },
    {
      "cell_type": "code",
      "source": [],
      "metadata": {
        "id": "XhIbDlx4Nusl"
      },
      "execution_count": 5,
      "outputs": []
    }
  ]
}