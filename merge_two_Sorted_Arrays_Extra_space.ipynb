{
  "nbformat": 4,
  "nbformat_minor": 0,
  "metadata": {
    "colab": {
      "provenance": [],
      "authorship_tag": "ABX9TyPvkdRh6EgAXi9n2blmMeAl",
      "include_colab_link": true
    },
    "kernelspec": {
      "name": "python3",
      "display_name": "Python 3"
    },
    "language_info": {
      "name": "python"
    }
  },
  "cells": [
    {
      "cell_type": "markdown",
      "metadata": {
        "id": "view-in-github",
        "colab_type": "text"
      },
      "source": [
        "<a href=\"https://colab.research.google.com/github/bharaniakella/Akellianpuff/blob/main/merge_two_Sorted_Arrays_Extra_space.ipynb\" target=\"_parent\"><img src=\"https://colab.research.google.com/assets/colab-badge.svg\" alt=\"Open In Colab\"/></a>"
      ]
    },
    {
      "cell_type": "code",
      "execution_count": 57,
      "metadata": {
        "id": "EVWvOgsDuvaI"
      },
      "outputs": [],
      "source": [
        "import numpy as np\n",
        "arr1=np.array([1,4,8,10])\n",
        "arr2=np.array([2,3,9])"
      ]
    },
    {
      "cell_type": "code",
      "source": [
        "def merge_sorted_array(arr1,arr2):\n",
        "  a1_len=len(arr1)\n",
        "  a2_len=len(arr2)\n",
        "  arr3=np.zeros(a1_len+a2_len)\n",
        "  a3_len=len(arr3)\n",
        "  while(a1_len>0 and a2_len>0):\n",
        "    if(arr1[a1_len-1]>arr2[a2_len-1]):\n",
        "      arr3[a3_len-1]=arr1[a1_len-1]\n",
        "      print(arr3)\n",
        "      a1_len=a1_len-1\n",
        "    else:\n",
        "      arr3[a3_len-1]=arr2[a2_len-1]\n",
        "      print(arr3)\n",
        "      a2_len=a2_len-1\n",
        "    a3_len=a3_len-1\n",
        "  while(a1_len>0):\n",
        "    arr3[a3_len-1]=arr1[a1_len-1]\n",
        "    a1_len=a1_len-1\n",
        "    a3_len=a3_len-1\n",
        "  while(a2_len>0):\n",
        "    arr3[a3_len-1]=arr1[a2_len-1]\n",
        "    a2_len=a2_len-1\n",
        "    a3_len=a3_len-1\n",
        "  return arr3\n",
        "\n",
        "\n"
      ],
      "metadata": {
        "id": "j6k-JrluyDos"
      },
      "execution_count": 58,
      "outputs": []
    },
    {
      "cell_type": "code",
      "source": [
        "merge_sorted_array(arr1,arr2)"
      ],
      "metadata": {
        "colab": {
          "base_uri": "https://localhost:8080/"
        },
        "id": "7rQJGQ5X04z4",
        "outputId": "faf4a85e-9fff-4fe3-f9a8-d044dde45cf8"
      },
      "execution_count": 59,
      "outputs": [
        {
          "output_type": "stream",
          "name": "stdout",
          "text": [
            "[ 0.  0.  0.  0.  0.  0. 10.]\n",
            "[ 0.  0.  0.  0.  0.  9. 10.]\n",
            "[ 0.  0.  0.  0.  8.  9. 10.]\n",
            "[ 0.  0.  0.  4.  8.  9. 10.]\n",
            "[ 0.  0.  3.  4.  8.  9. 10.]\n",
            "[ 0.  2.  3.  4.  8.  9. 10.]\n"
          ]
        },
        {
          "output_type": "execute_result",
          "data": {
            "text/plain": [
              "array([ 1.,  2.,  3.,  4.,  8.,  9., 10.])"
            ]
          },
          "metadata": {},
          "execution_count": 59
        }
      ]
    },
    {
      "cell_type": "code",
      "source": [],
      "metadata": {
        "id": "fiEqpmnJ0_l0"
      },
      "execution_count": null,
      "outputs": []
    }
  ]
}