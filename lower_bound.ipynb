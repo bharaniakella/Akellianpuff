{
  "nbformat": 4,
  "nbformat_minor": 0,
  "metadata": {
    "colab": {
      "provenance": [],
      "authorship_tag": "ABX9TyPiklHbZn+pgGzyl0Czd/Nh",
      "include_colab_link": true
    },
    "kernelspec": {
      "name": "python3",
      "display_name": "Python 3"
    },
    "language_info": {
      "name": "python"
    }
  },
  "cells": [
    {
      "cell_type": "markdown",
      "metadata": {
        "id": "view-in-github",
        "colab_type": "text"
      },
      "source": [
        "<a href=\"https://colab.research.google.com/github/bharaniakella/Akellianpuff/blob/main/lower_bound.ipynb\" target=\"_parent\"><img src=\"https://colab.research.google.com/assets/colab-badge.svg\" alt=\"Open In Colab\"/></a>"
      ]
    },
    {
      "cell_type": "code",
      "execution_count": 18,
      "metadata": {
        "id": "aFpXPx-OzW5u"
      },
      "outputs": [],
      "source": [
        "import numpy as np\n",
        "\n",
        "arr=np.array([3,5,8,15,19])"
      ]
    },
    {
      "cell_type": "code",
      "source": [
        "def lower_bound(arr,target):\n",
        "  low=0\n",
        "  high=len(arr)-1\n",
        "  ans=len(arr)\n",
        "  while(low<=high):\n",
        "    mid=low+(high-low)//2\n",
        "    if(arr[mid]>=target):\n",
        "      ans=mid\n",
        "      high=mid-1\n",
        "    else:\n",
        "      low=mid+1\n",
        "  return ans"
      ],
      "metadata": {
        "id": "P0aGFtTezmxy"
      },
      "execution_count": 19,
      "outputs": []
    },
    {
      "cell_type": "code",
      "source": [
        "lower_bound(arr,6)"
      ],
      "metadata": {
        "colab": {
          "base_uri": "https://localhost:8080/"
        },
        "id": "PYmPHw6T164C",
        "outputId": "14c8f49b-0909-4b37-a3f8-caa7b6a1a06c"
      },
      "execution_count": 21,
      "outputs": [
        {
          "output_type": "execute_result",
          "data": {
            "text/plain": [
              "2"
            ]
          },
          "metadata": {},
          "execution_count": 21
        }
      ]
    },
    {
      "cell_type": "code",
      "source": [],
      "metadata": {
        "id": "Clyd9BND1_WC"
      },
      "execution_count": null,
      "outputs": []
    }
  ]
}