{
  "nbformat": 4,
  "nbformat_minor": 0,
  "metadata": {
    "colab": {
      "provenance": [],
      "authorship_tag": "ABX9TyNDogy5s8JfoyV5qn6Z59g0",
      "include_colab_link": true
    },
    "kernelspec": {
      "name": "python3",
      "display_name": "Python 3"
    },
    "language_info": {
      "name": "python"
    }
  },
  "cells": [
    {
      "cell_type": "markdown",
      "metadata": {
        "id": "view-in-github",
        "colab_type": "text"
      },
      "source": [
        "<a href=\"https://colab.research.google.com/github/bharaniakella/Akellianpuff/blob/main/max_product.ipynb\" target=\"_parent\"><img src=\"https://colab.research.google.com/assets/colab-badge.svg\" alt=\"Open In Colab\"/></a>"
      ]
    },
    {
      "cell_type": "code",
      "execution_count": 24,
      "metadata": {
        "id": "uSBz-cXvuRau"
      },
      "outputs": [],
      "source": [
        "import numpy as np\n",
        "arr=np.array([1,2,3,4,8,6,7,9])"
      ]
    },
    {
      "cell_type": "code",
      "source": [
        "def max_product(arr):\n",
        "  maxi=0\n",
        "  sm=-1\n",
        "  for i in range(1,len(arr)):\n",
        "    if(arr[i]>arr[maxi]):\n",
        "      sm=maxi\n",
        "      maxi=i\n",
        "    elif(sm==-1):\n",
        "      sm=i\n",
        "    elif(arr[i]>arr[sm]):\n",
        "      sm=i\n",
        "\n",
        "  return (arr[maxi]*arr[sm])"
      ],
      "metadata": {
        "id": "vYR7XNIDue3q"
      },
      "execution_count": 25,
      "outputs": []
    },
    {
      "cell_type": "code",
      "source": [
        "max_product(arr)"
      ],
      "metadata": {
        "colab": {
          "base_uri": "https://localhost:8080/"
        },
        "id": "AQrwI0hPu83N",
        "outputId": "4460467b-d912-43e8-9c98-094d5a9c50da"
      },
      "execution_count": 26,
      "outputs": [
        {
          "output_type": "execute_result",
          "data": {
            "text/plain": [
              "72"
            ]
          },
          "metadata": {},
          "execution_count": 26
        }
      ]
    },
    {
      "cell_type": "code",
      "source": [],
      "metadata": {
        "id": "m0r8zC6wu-in"
      },
      "execution_count": null,
      "outputs": []
    }
  ]
}