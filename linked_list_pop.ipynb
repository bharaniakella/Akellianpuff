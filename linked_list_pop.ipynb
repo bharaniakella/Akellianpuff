{
  "nbformat": 4,
  "nbformat_minor": 0,
  "metadata": {
    "colab": {
      "provenance": [],
      "authorship_tag": "ABX9TyMfcpMLMirFLznqnshFGfTp",
      "include_colab_link": true
    },
    "kernelspec": {
      "name": "python3",
      "display_name": "Python 3"
    },
    "language_info": {
      "name": "python"
    }
  },
  "cells": [
    {
      "cell_type": "markdown",
      "metadata": {
        "id": "view-in-github",
        "colab_type": "text"
      },
      "source": [
        "<a href=\"https://colab.research.google.com/github/bharaniakella/Akellianpuff/blob/main/linked_list_pop.ipynb\" target=\"_parent\"><img src=\"https://colab.research.google.com/assets/colab-badge.svg\" alt=\"Open In Colab\"/></a>"
      ]
    },
    {
      "cell_type": "code",
      "execution_count": null,
      "metadata": {
        "id": "WYxmcG2QKxSU"
      },
      "outputs": [],
      "source": [
        "class Node:\n",
        "  def __init__(self,value):\n",
        "    self.value=value\n",
        "    self.next=None"
      ]
    },
    {
      "cell_type": "code",
      "source": [
        "class LinkedList:\n",
        "  def __init__(self):\n",
        "    self.head=None\n",
        "    self.tail=None\n",
        "    self.length=0\n",
        "\n",
        "  def print_list(self):\n",
        "    node=self.head\n",
        "    while node:\n",
        "      print(node.value)\n",
        "      node=node.next\n",
        "\n",
        "  def append(self,value):\n",
        "    new_node=Node(value)\n",
        "    if(self.head==None):\n",
        "      self.head=new_node\n",
        "      self.tail=new_node\n",
        "    else:\n",
        "      self.tail.next=new_node\n",
        "      self.tail=new_node\n",
        "    self.length=self.length+1\n",
        "\n",
        "  def prepend(self,value):\n",
        "    new_node=Node(value)\n",
        "    if(self.head==None):\n",
        "      self.head=new_node\n",
        "      self.tail=new_node\n",
        "    else:\n",
        "      new_node.next=self.head\n",
        "      self.head=new_node\n",
        "    self.length=self.length+1\n",
        "\n",
        "  def insert(self,index,value):\n",
        "    new_node=Node(value)\n",
        "    if(index<0 or index>=self.length):\n",
        "      return False\n",
        "    if(self.length==0):\n",
        "      self.head=new_node\n",
        "      self.tail=new_node\n",
        "    elif(index==0):\n",
        "      new_node.next=self.head\n",
        "      self.head=new_node\n",
        "    else:\n",
        "      temp_node=self.head\n",
        "      for _ in range(index-1):\n",
        "        temp_node=temp_node.next\n",
        "      new_node.next=temp_node.next\n",
        "      temp_node.next=new_node\n",
        "    self.length=self.length+1\n",
        "    return True\n",
        "\n",
        "  def search(self,target):\n",
        "    current=self.head\n",
        "    index=0\n",
        "    while current:\n",
        "      if(current.value==target):\n",
        "        return index\n",
        "      current=current.next\n",
        "      index=index+1\n",
        "    return -1\n",
        "\n",
        "  def get(self,index):\n",
        "    if(index<0 or index>=self.length):\n",
        "      return None\n",
        "    current=self.head\n",
        "    for _ in range(index):\n",
        "      current=current.next\n",
        "    return current.value\n",
        "\n",
        "  def set_value(self,index,value):\n",
        "    if(index<0 or index>=self.length):\n",
        "      return False\n",
        "    current=self.head\n",
        "    for _ in range(index):\n",
        "      current=current.next\n",
        "    current.value=value\n",
        "    return True\n",
        "\n",
        "  def pop_first(self):\n",
        "    if(self.length==0):\n",
        "      return None\n",
        "    popped_node=self.head\n",
        "    if(self.length==1):\n",
        "      self.head=None\n",
        "      self.tail=None\n",
        "    else:\n",
        "      self.head=self.head.next\n",
        "      popped_node.next=None\n",
        "    self.length=self.length-1\n",
        "    return popped_node\n",
        "\n",
        "  def pop(self):\n",
        "    if(self.length==0):\n",
        "      return None\n",
        "    popped_node=self.tail\n",
        "    if(self.length==1):\n",
        "      self.head=self.tail=None\n",
        "    else:\n",
        "      temp=self.head\n",
        "      while temp.next is not self.tail:\n",
        "        temp=temp.next\n",
        "      self.tail=temp\n",
        "      temp.next=None\n",
        "    self.length=self.length-1\n",
        "    return popped_node\n",
        "\n",
        "  def print_length(self):\n",
        "    return self.length"
      ],
      "metadata": {
        "id": "7GcLfxMmK9cQ"
      },
      "execution_count": null,
      "outputs": []
    },
    {
      "cell_type": "code",
      "source": [
        "ll=LinkedList()\n",
        "\n",
        "ll.append(10)\n",
        "ll.append(20)\n",
        "ll.prepend(100)\n",
        "ll.prepend(200)\n",
        "ll.insert(1,500)\n",
        "ll.insert(0,1000)\n",
        "ll.insert(6,111)\n",
        "ll.print_list()"
      ],
      "metadata": {
        "colab": {
          "base_uri": "https://localhost:8080/"
        },
        "id": "0UmsmM2ZNeiD",
        "outputId": "173d1bb5-49e4-4e09-ddf8-e30f6b8c1285"
      },
      "execution_count": null,
      "outputs": [
        {
          "output_type": "stream",
          "name": "stdout",
          "text": [
            "1000\n",
            "200\n",
            "500\n",
            "100\n",
            "10\n",
            "20\n"
          ]
        }
      ]
    },
    {
      "cell_type": "code",
      "source": [
        "ll.print_length()"
      ],
      "metadata": {
        "colab": {
          "base_uri": "https://localhost:8080/"
        },
        "id": "5DspB9nZSl_E",
        "outputId": "312d4feb-ba40-483a-d19d-8478b90bff47"
      },
      "execution_count": null,
      "outputs": [
        {
          "output_type": "execute_result",
          "data": {
            "text/plain": [
              "6"
            ]
          },
          "metadata": {},
          "execution_count": 71
        }
      ]
    },
    {
      "cell_type": "code",
      "source": [
        "ll.pop_first()"
      ],
      "metadata": {
        "id": "Z__MhCCYG_qm",
        "colab": {
          "base_uri": "https://localhost:8080/"
        },
        "outputId": "3bdc7b7d-3a14-42bb-cc8e-cad873c51fa7"
      },
      "execution_count": null,
      "outputs": [
        {
          "output_type": "execute_result",
          "data": {
            "text/plain": [
              "<__main__.Node at 0x7ec75091ece0>"
            ]
          },
          "metadata": {},
          "execution_count": 53
        }
      ]
    },
    {
      "cell_type": "code",
      "source": [
        "ll.print_list()"
      ],
      "metadata": {
        "colab": {
          "base_uri": "https://localhost:8080/"
        },
        "id": "dWOKCgt8JczQ",
        "outputId": "6a5e1a8b-eef3-46a0-c316-cb8b1e8b3f9a"
      },
      "execution_count": null,
      "outputs": [
        {
          "output_type": "stream",
          "name": "stdout",
          "text": [
            "200\n",
            "500\n",
            "100\n",
            "10\n",
            "20\n",
            "111\n"
          ]
        }
      ]
    },
    {
      "cell_type": "code",
      "source": [
        "ll.pop()"
      ],
      "metadata": {
        "colab": {
          "base_uri": "https://localhost:8080/"
        },
        "id": "jSs1gGGvJjhV",
        "outputId": "f121903b-83d8-4dd4-8d39-d99eb726ed45"
      },
      "execution_count": null,
      "outputs": [
        {
          "output_type": "stream",
          "name": "stdout",
          "text": [
            "20\n"
          ]
        },
        {
          "output_type": "execute_result",
          "data": {
            "text/plain": [
              "<__main__.Node at 0x7ec768106140>"
            ]
          },
          "metadata": {},
          "execution_count": 72
        }
      ]
    },
    {
      "cell_type": "code",
      "source": [
        "ll.print_list()"
      ],
      "metadata": {
        "colab": {
          "base_uri": "https://localhost:8080/"
        },
        "id": "95x1cQDsJleS",
        "outputId": "b4f3d766-deed-4bc4-f2ac-3d4665c80f8a"
      },
      "execution_count": null,
      "outputs": [
        {
          "output_type": "stream",
          "name": "stdout",
          "text": [
            "1000\n",
            "200\n",
            "500\n",
            "100\n",
            "10\n"
          ]
        }
      ]
    },
    {
      "cell_type": "code",
      "source": [
        "ll.print_length()"
      ],
      "metadata": {
        "id": "hrO5rfBjJmtI",
        "colab": {
          "base_uri": "https://localhost:8080/"
        },
        "outputId": "5f533e0e-4bc8-499e-d770-04e316a68a33"
      },
      "execution_count": null,
      "outputs": [
        {
          "output_type": "execute_result",
          "data": {
            "text/plain": [
              "5"
            ]
          },
          "metadata": {},
          "execution_count": 74
        }
      ]
    },
    {
      "cell_type": "code",
      "source": [],
      "metadata": {
        "id": "kuCCXjyLSuex"
      },
      "execution_count": null,
      "outputs": []
    }
  ]
}