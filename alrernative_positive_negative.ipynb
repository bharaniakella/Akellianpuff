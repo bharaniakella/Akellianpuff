{
  "nbformat": 4,
  "nbformat_minor": 0,
  "metadata": {
    "colab": {
      "provenance": [],
      "authorship_tag": "ABX9TyNvFSl5xORVNfPx7V98EyHv",
      "include_colab_link": true
    },
    "kernelspec": {
      "name": "python3",
      "display_name": "Python 3"
    },
    "language_info": {
      "name": "python"
    }
  },
  "cells": [
    {
      "cell_type": "markdown",
      "metadata": {
        "id": "view-in-github",
        "colab_type": "text"
      },
      "source": [
        "<a href=\"https://colab.research.google.com/github/bharaniakella/Akellianpuff/blob/main/alrernative_positive_negative.ipynb\" target=\"_parent\"><img src=\"https://colab.research.google.com/assets/colab-badge.svg\" alt=\"Open In Colab\"/></a>"
      ]
    },
    {
      "cell_type": "code",
      "execution_count": 16,
      "metadata": {
        "id": "FnIgSwEUMTif"
      },
      "outputs": [],
      "source": [
        "import numpy as np\n",
        "arr=np.array([1,2,-3,-1,-2,3])"
      ]
    },
    {
      "cell_type": "code",
      "source": [
        "def alt_pos_neg(arr):\n",
        "  pos=[]\n",
        "  neg=[]\n",
        "  altarr=[]\n",
        "  for i in range(len(arr)):\n",
        "    if(arr[i]>0):\n",
        "      pos.append(arr[i])\n",
        "    else:\n",
        "      neg.append(arr[i])\n",
        "  for i in range(len(pos)):\n",
        "    altarr.append(pos[i])\n",
        "    altarr.append(neg[i])\n",
        "  return altarr\n",
        "\n"
      ],
      "metadata": {
        "id": "IsA574w2NrHI"
      },
      "execution_count": 19,
      "outputs": []
    },
    {
      "cell_type": "code",
      "source": [
        "alt_pos_neg(arr)"
      ],
      "metadata": {
        "colab": {
          "base_uri": "https://localhost:8080/"
        },
        "id": "5Cc-6heAPFxb",
        "outputId": "5a1ca26a-9fbb-4822-e4c5-996dc40a69ca"
      },
      "execution_count": 20,
      "outputs": [
        {
          "output_type": "execute_result",
          "data": {
            "text/plain": [
              "[1, -3, 2, -1, 3, -2]"
            ]
          },
          "metadata": {},
          "execution_count": 20
        }
      ]
    },
    {
      "cell_type": "code",
      "source": [],
      "metadata": {
        "id": "9s5qralrPHI2"
      },
      "execution_count": null,
      "outputs": []
    }
  ]
}