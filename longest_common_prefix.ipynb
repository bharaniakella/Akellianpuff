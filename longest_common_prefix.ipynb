{
  "nbformat": 4,
  "nbformat_minor": 0,
  "metadata": {
    "colab": {
      "provenance": [],
      "authorship_tag": "ABX9TyPVrL+Ywr+NkJzXnkC5HDQ4",
      "include_colab_link": true
    },
    "kernelspec": {
      "name": "python3",
      "display_name": "Python 3"
    },
    "language_info": {
      "name": "python"
    }
  },
  "cells": [
    {
      "cell_type": "markdown",
      "metadata": {
        "id": "view-in-github",
        "colab_type": "text"
      },
      "source": [
        "<a href=\"https://colab.research.google.com/github/bharaniakella/Akellianpuff/blob/main/longest_common_prefix.ipynb\" target=\"_parent\"><img src=\"https://colab.research.google.com/assets/colab-badge.svg\" alt=\"Open In Colab\"/></a>"
      ]
    },
    {
      "cell_type": "code",
      "source": [
        "class Solution:\n",
        "    def longestCommonPrefix(self, strs: List[str]) -> str:\n",
        "\n",
        "        sorted_strs=sorted(strs)\n",
        "        first=sorted_strs[0]\n",
        "        last=sorted_strs[-1]\n",
        "        ans=\"\"\n",
        "\n",
        "        for i in range(len(min(first,last))):\n",
        "            if(first[i]!=last[i]):\n",
        "                return ans\n",
        "            ans=ans+first[i]\n",
        "        return ans\n"
      ],
      "metadata": {
        "id": "krw3vNA-hjoO"
      },
      "execution_count": null,
      "outputs": []
    }
  ]
}