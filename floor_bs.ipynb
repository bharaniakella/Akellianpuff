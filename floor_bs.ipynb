{
  "nbformat": 4,
  "nbformat_minor": 0,
  "metadata": {
    "colab": {
      "provenance": [],
      "authorship_tag": "ABX9TyMaluJbm0Sz0Dc4MTuuwAuq",
      "include_colab_link": true
    },
    "kernelspec": {
      "name": "python3",
      "display_name": "Python 3"
    },
    "language_info": {
      "name": "python"
    }
  },
  "cells": [
    {
      "cell_type": "markdown",
      "metadata": {
        "id": "view-in-github",
        "colab_type": "text"
      },
      "source": [
        "<a href=\"https://colab.research.google.com/github/bharaniakella/Akellianpuff/blob/main/floor_bs.ipynb\" target=\"_parent\"><img src=\"https://colab.research.google.com/assets/colab-badge.svg\" alt=\"Open In Colab\"/></a>"
      ]
    },
    {
      "cell_type": "code",
      "execution_count": 4,
      "metadata": {
        "id": "HoSR-j3i8wou"
      },
      "outputs": [],
      "source": [
        "import numpy as np\n",
        "arr=np.array([3, 4, 4, 7, 8, 10])"
      ]
    },
    {
      "cell_type": "code",
      "source": [
        "def floor(arr,target):\n",
        "  low=0\n",
        "  high=len(arr)-1\n",
        "  ans=-1\n",
        "  while(low<=high):\n",
        "    mid=low+(high-low)//2\n",
        "    if(arr[mid]<=target):\n",
        "      ans=arr[mid]\n",
        "      low=mid+1\n",
        "    else:\n",
        "      high=mid-1\n",
        "  return ans\n"
      ],
      "metadata": {
        "id": "BjXv5aSv84eG"
      },
      "execution_count": 13,
      "outputs": []
    },
    {
      "cell_type": "code",
      "source": [
        "floor(arr,100)"
      ],
      "metadata": {
        "colab": {
          "base_uri": "https://localhost:8080/"
        },
        "id": "fpfqcF8Q9dJ4",
        "outputId": "dcdbf232-582d-4cbd-a10d-3468cad9b6ce"
      },
      "execution_count": 15,
      "outputs": [
        {
          "output_type": "execute_result",
          "data": {
            "text/plain": [
              "10"
            ]
          },
          "metadata": {},
          "execution_count": 15
        }
      ]
    },
    {
      "cell_type": "code",
      "source": [],
      "metadata": {
        "id": "s82c2dlc9fZB"
      },
      "execution_count": null,
      "outputs": []
    }
  ]
}