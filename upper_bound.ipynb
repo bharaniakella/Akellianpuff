{
  "nbformat": 4,
  "nbformat_minor": 0,
  "metadata": {
    "colab": {
      "provenance": [],
      "authorship_tag": "ABX9TyPlqXZOceKhhYZXXCImZ0zA",
      "include_colab_link": true
    },
    "kernelspec": {
      "name": "python3",
      "display_name": "Python 3"
    },
    "language_info": {
      "name": "python"
    }
  },
  "cells": [
    {
      "cell_type": "markdown",
      "metadata": {
        "id": "view-in-github",
        "colab_type": "text"
      },
      "source": [
        "<a href=\"https://colab.research.google.com/github/bharaniakella/Akellianpuff/blob/main/upper_bound.ipynb\" target=\"_parent\"><img src=\"https://colab.research.google.com/assets/colab-badge.svg\" alt=\"Open In Colab\"/></a>"
      ]
    },
    {
      "cell_type": "code",
      "execution_count": 15,
      "metadata": {
        "id": "r6imY2YRHwtT"
      },
      "outputs": [],
      "source": [
        "import numpy as np\n",
        "\n",
        "arr=np.array([1,2,2,3])"
      ]
    },
    {
      "cell_type": "code",
      "source": [
        "def upper(arr,target):\n",
        "  low=0\n",
        "  high=len(arr)-1\n",
        "  ans=len(arr)\n",
        "  while(low<=high):\n",
        "    mid=low+(high-low)//2\n",
        "    if(arr[mid]>target):\n",
        "      ans=mid\n",
        "      high=mid-1\n",
        "    else:\n",
        "      low=mid+1\n",
        "  return ans"
      ],
      "metadata": {
        "id": "7NJfLiuYH_-q"
      },
      "execution_count": 16,
      "outputs": []
    },
    {
      "cell_type": "code",
      "source": [
        "upper(arr,-4)"
      ],
      "metadata": {
        "colab": {
          "base_uri": "https://localhost:8080/"
        },
        "id": "zDpeGkcLI3CT",
        "outputId": "d823bbb4-a980-40cb-c678-af5cd2f63c0f"
      },
      "execution_count": 17,
      "outputs": [
        {
          "output_type": "execute_result",
          "data": {
            "text/plain": [
              "0"
            ]
          },
          "metadata": {},
          "execution_count": 17
        }
      ]
    },
    {
      "cell_type": "code",
      "source": [],
      "metadata": {
        "id": "dpHcuigaI4nM"
      },
      "execution_count": null,
      "outputs": []
    }
  ]
}