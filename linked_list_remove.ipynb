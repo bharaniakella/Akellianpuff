{
  "nbformat": 4,
  "nbformat_minor": 0,
  "metadata": {
    "colab": {
      "provenance": [],
      "authorship_tag": "ABX9TyPy/PxF9Q6RP+lGTT1YF88u",
      "include_colab_link": true
    },
    "kernelspec": {
      "name": "python3",
      "display_name": "Python 3"
    },
    "language_info": {
      "name": "python"
    }
  },
  "cells": [
    {
      "cell_type": "markdown",
      "metadata": {
        "id": "view-in-github",
        "colab_type": "text"
      },
      "source": [
        "<a href=\"https://colab.research.google.com/github/bharaniakella/Akellianpuff/blob/main/linked_list_remove.ipynb\" target=\"_parent\"><img src=\"https://colab.research.google.com/assets/colab-badge.svg\" alt=\"Open In Colab\"/></a>"
      ]
    },
    {
      "cell_type": "code",
      "execution_count": 3,
      "metadata": {
        "id": "WYxmcG2QKxSU"
      },
      "outputs": [],
      "source": [
        "class Node:\n",
        "  def __init__(self,value):\n",
        "    self.value=value\n",
        "    self.next=None"
      ]
    },
    {
      "cell_type": "code",
      "source": [
        "class LinkedList:\n",
        "  def __init__(self):\n",
        "    self.head=None\n",
        "    self.tail=None\n",
        "    self.length=0\n",
        "\n",
        "  def print_list(self):\n",
        "    node=self.head\n",
        "    while node:\n",
        "      print(node.value)\n",
        "      node=node.next\n",
        "\n",
        "  def append(self,value):\n",
        "    new_node=Node(value)\n",
        "    if(self.head==None):\n",
        "      self.head=new_node\n",
        "      self.tail=new_node\n",
        "    else:\n",
        "      self.tail.next=new_node\n",
        "      self.tail=new_node\n",
        "    self.length=self.length+1\n",
        "\n",
        "  def prepend(self,value):\n",
        "    new_node=Node(value)\n",
        "    if(self.head==None):\n",
        "      self.head=new_node\n",
        "      self.tail=new_node\n",
        "    else:\n",
        "      new_node.next=self.head\n",
        "      self.head=new_node\n",
        "    self.length=self.length+1\n",
        "\n",
        "  def insert(self,index,value):\n",
        "    new_node=Node(value)\n",
        "    if(index<0 or index>=self.length):\n",
        "      return False\n",
        "    if(self.length==0):\n",
        "      self.head=new_node\n",
        "      self.tail=new_node\n",
        "    elif(index==0):\n",
        "      new_node.next=self.head\n",
        "      self.head=new_node\n",
        "    else:\n",
        "      temp_node=self.head\n",
        "      for _ in range(index-1):\n",
        "        temp_node=temp_node.next\n",
        "      new_node.next=temp_node.next\n",
        "      temp_node.next=new_node\n",
        "    self.length=self.length+1\n",
        "    return True\n",
        "\n",
        "  def search(self,target):\n",
        "    current=self.head\n",
        "    index=0\n",
        "    while current:\n",
        "      if(current.value==target):\n",
        "        return index\n",
        "      current=current.next\n",
        "      index=index+1\n",
        "    return -1\n",
        "\n",
        "  def get(self,index):\n",
        "    if(index<0 or index>=self.length):\n",
        "      return None\n",
        "    current=self.head\n",
        "    for _ in range(index):\n",
        "      current=current.next\n",
        "    return current.value\n",
        "\n",
        "  def set_value(self,index,value):\n",
        "    if(index<0 or index>=self.length):\n",
        "      return False\n",
        "    current=self.head\n",
        "    for _ in range(index):\n",
        "      current=current.next\n",
        "    current.value=value\n",
        "    return True\n",
        "\n",
        "  def pop_first(self):\n",
        "    if(self.length==0):\n",
        "      return None\n",
        "    popped_node=self.head\n",
        "    if(self.length==1):\n",
        "      self.head=None\n",
        "      self.tail=None\n",
        "    else:\n",
        "      self.head=self.head.next\n",
        "      popped_node.next=None\n",
        "    self.length=self.length-1\n",
        "    return popped_node\n",
        "\n",
        "  def pop(self):\n",
        "    if(self.length==0):\n",
        "      return None\n",
        "    popped_node=self.tail\n",
        "    if(self.length==1):\n",
        "      self.head=self.tail=None\n",
        "    else:\n",
        "      temp=self.head\n",
        "      while temp.next is not self.tail:\n",
        "        temp=temp.next\n",
        "      self.tail=temp\n",
        "      temp.next=None\n",
        "    self.length=self.length-1\n",
        "    return popped_node\n",
        "\n",
        "  def print_length(self):\n",
        "    return self.length\n",
        "\n",
        "  def remove(self,index):\n",
        "    if(index<0 or index>=self.length):\n",
        "      return None\n",
        "    if(index==0):\n",
        "      return self.pop_first()\n",
        "    if(index==self.length-1):\n",
        "      return self.pop()\n",
        "\n",
        "    prev_node=self.get(index-1)\n",
        "    popped_node=prev_node.next\n",
        "    prev_node.next=popped_node.next\n",
        "    popped_node.next=None\n",
        "    self.length=self.self.length-1\n",
        "    return popped_node"
      ],
      "metadata": {
        "id": "7GcLfxMmK9cQ"
      },
      "execution_count": 10,
      "outputs": []
    },
    {
      "cell_type": "code",
      "source": [
        "ll=LinkedList()\n",
        "\n",
        "ll.append(10)\n",
        "ll.append(20)\n",
        "ll.prepend(100)\n",
        "ll.prepend(200)\n",
        "ll.insert(1,500)\n",
        "ll.insert(0,1000)\n",
        "ll.insert(6,111)\n",
        "ll.print_list()"
      ],
      "metadata": {
        "colab": {
          "base_uri": "https://localhost:8080/"
        },
        "id": "0UmsmM2ZNeiD",
        "outputId": "f2d0a2ad-3cef-4de9-fdc0-d072ae5d2297"
      },
      "execution_count": 11,
      "outputs": [
        {
          "output_type": "stream",
          "name": "stdout",
          "text": [
            "1000\n",
            "200\n",
            "500\n",
            "100\n",
            "10\n",
            "20\n"
          ]
        }
      ]
    },
    {
      "cell_type": "code",
      "source": [
        "ll.print_length()"
      ],
      "metadata": {
        "colab": {
          "base_uri": "https://localhost:8080/"
        },
        "id": "5DspB9nZSl_E",
        "outputId": "841eab58-c269-4c3b-de6c-18539a059538"
      },
      "execution_count": 12,
      "outputs": [
        {
          "output_type": "execute_result",
          "data": {
            "text/plain": [
              "6"
            ]
          },
          "metadata": {},
          "execution_count": 12
        }
      ]
    },
    {
      "cell_type": "code",
      "source": [
        "ll.remove(0)"
      ],
      "metadata": {
        "id": "kuCCXjyLSuex",
        "colab": {
          "base_uri": "https://localhost:8080/"
        },
        "outputId": "5e24dd88-dcb9-422d-a169-644c7d1abcd6"
      },
      "execution_count": 13,
      "outputs": [
        {
          "output_type": "execute_result",
          "data": {
            "text/plain": [
              "<__main__.Node at 0x7f1f5480aa40>"
            ]
          },
          "metadata": {},
          "execution_count": 13
        }
      ]
    },
    {
      "cell_type": "code",
      "source": [
        "ll.print_list()"
      ],
      "metadata": {
        "colab": {
          "base_uri": "https://localhost:8080/"
        },
        "id": "Cno5ttg1WK2a",
        "outputId": "bfcd9cc4-f6da-4bd1-f6f9-84c12fd863d3"
      },
      "execution_count": 14,
      "outputs": [
        {
          "output_type": "stream",
          "name": "stdout",
          "text": [
            "200\n",
            "500\n",
            "100\n",
            "10\n",
            "20\n"
          ]
        }
      ]
    },
    {
      "cell_type": "code",
      "source": [
        "ll.remove(4)\n",
        "ll.print_list()"
      ],
      "metadata": {
        "colab": {
          "base_uri": "https://localhost:8080/"
        },
        "id": "uhFjdhyQWMIq",
        "outputId": "37630407-f218-480e-b20a-c8dbfb6f8aea"
      },
      "execution_count": 15,
      "outputs": [
        {
          "output_type": "stream",
          "name": "stdout",
          "text": [
            "200\n",
            "500\n",
            "100\n",
            "10\n"
          ]
        }
      ]
    },
    {
      "cell_type": "code",
      "source": [],
      "metadata": {
        "id": "2WEPXzcLWQWW"
      },
      "execution_count": null,
      "outputs": []
    }
  ]
}