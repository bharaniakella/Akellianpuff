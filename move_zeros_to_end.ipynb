{
  "nbformat": 4,
  "nbformat_minor": 0,
  "metadata": {
    "colab": {
      "provenance": [],
      "authorship_tag": "ABX9TyMYkumE1pWomO7m7yGiwcUC",
      "include_colab_link": true
    },
    "kernelspec": {
      "name": "python3",
      "display_name": "Python 3"
    },
    "language_info": {
      "name": "python"
    }
  },
  "cells": [
    {
      "cell_type": "markdown",
      "metadata": {
        "id": "view-in-github",
        "colab_type": "text"
      },
      "source": [
        "<a href=\"https://colab.research.google.com/github/bharaniakella/Akellianpuff/blob/main/move_zeros_to_end.ipynb\" target=\"_parent\"><img src=\"https://colab.research.google.com/assets/colab-badge.svg\" alt=\"Open In Colab\"/></a>"
      ]
    },
    {
      "cell_type": "code",
      "execution_count": 30,
      "metadata": {
        "id": "nLViOIGx3ff9"
      },
      "outputs": [],
      "source": [
        "import numpy as np\n",
        "arr=np.array([0,0,0,1,2,3,0,4,5])\n",
        "\n"
      ]
    },
    {
      "cell_type": "code",
      "source": [
        "def move_zeros(arr):\n",
        "  for i in range(len(arr)):\n",
        "    if(arr[i]==0):\n",
        "      break\n",
        "  z=i\n",
        "  p=z+i\n",
        "\n",
        "  while(p<len(arr) and z<len(arr)):\n",
        "    if(arr[p]!=0):\n",
        "      temp=arr[p]\n",
        "      arr[p]=arr[z]\n",
        "      arr[z]=temp\n",
        "      z=z+1\n",
        "      p=p+1\n",
        "    else:\n",
        "      p=p+1\n",
        "  return arr"
      ],
      "metadata": {
        "id": "lZ5jrtSa3oU1"
      },
      "execution_count": 31,
      "outputs": []
    },
    {
      "cell_type": "code",
      "source": [
        "move_zeros(arr)"
      ],
      "metadata": {
        "colab": {
          "base_uri": "https://localhost:8080/"
        },
        "id": "P_EhZS994IhY",
        "outputId": "a7a9d030-42d7-49b6-d54f-0a22a27bf34d"
      },
      "execution_count": 32,
      "outputs": [
        {
          "output_type": "execute_result",
          "data": {
            "text/plain": [
              "array([1, 2, 3, 4, 5, 0, 0, 0, 0])"
            ]
          },
          "metadata": {},
          "execution_count": 32
        }
      ]
    },
    {
      "cell_type": "code",
      "source": [],
      "metadata": {
        "id": "7hVj64PE4J65"
      },
      "execution_count": null,
      "outputs": []
    }
  ]
}