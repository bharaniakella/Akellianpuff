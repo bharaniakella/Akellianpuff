{
  "nbformat": 4,
  "nbformat_minor": 0,
  "metadata": {
    "colab": {
      "provenance": [],
      "authorship_tag": "ABX9TyN5ioX4XHhr0B7DxOpEOiFn",
      "include_colab_link": true
    },
    "kernelspec": {
      "name": "python3",
      "display_name": "Python 3"
    },
    "language_info": {
      "name": "python"
    }
  },
  "cells": [
    {
      "cell_type": "markdown",
      "metadata": {
        "id": "view-in-github",
        "colab_type": "text"
      },
      "source": [
        "<a href=\"https://colab.research.google.com/github/bharaniakella/Akellianpuff/blob/main/LL_Creation.ipynb\" target=\"_parent\"><img src=\"https://colab.research.google.com/assets/colab-badge.svg\" alt=\"Open In Colab\"/></a>"
      ]
    },
    {
      "cell_type": "code",
      "execution_count": 1,
      "metadata": {
        "id": "T1j6Mw408LiH"
      },
      "outputs": [],
      "source": [
        "class Node():\n",
        "  def __init__(self,value):\n",
        "    self.next=None\n",
        "    self.value=value\n"
      ]
    },
    {
      "cell_type": "code",
      "source": [
        "class Linked_List():\n",
        "  def __init__(self):\n",
        "    self.head=None\n",
        "    self.tail=None\n",
        "\n",
        "  def __iter__(self):\n",
        "    node=self.head\n",
        "    while(node):\n",
        "      yield node\n",
        "      node=node.next"
      ],
      "metadata": {
        "id": "lvx7sN2Z8bYe"
      },
      "execution_count": 2,
      "outputs": []
    },
    {
      "cell_type": "code",
      "source": [
        "ll=Linked_List()\n",
        "\n",
        "n1=Node(10)\n",
        "n2=Node(20)\n",
        "n3=Node(30)\n",
        "n4=Node(40)\n",
        "\n",
        "n1.next=n2\n",
        "n2.next=n3\n",
        "n3.next=n4\n",
        "\n",
        "ll.head=n1\n",
        "\n",
        "for node in ll:\n",
        "  print(node.value)"
      ],
      "metadata": {
        "colab": {
          "base_uri": "https://localhost:8080/"
        },
        "id": "IWEHwtcK9q_i",
        "outputId": "8ad067c5-9e3a-47f5-b6e6-afd0772ca4f1"
      },
      "execution_count": 4,
      "outputs": [
        {
          "output_type": "stream",
          "name": "stdout",
          "text": [
            "10\n",
            "20\n",
            "30\n",
            "40\n"
          ]
        }
      ]
    },
    {
      "cell_type": "code",
      "source": [],
      "metadata": {
        "id": "oAqI_DO3-Dob"
      },
      "execution_count": null,
      "outputs": []
    }
  ]
}